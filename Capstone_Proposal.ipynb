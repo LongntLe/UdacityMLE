{
  "nbformat": 4,
  "nbformat_minor": 0,
  "metadata": {
    "colab": {
      "name": "Capstone Proposal.ipynb",
      "provenance": [],
      "authorship_tag": "ABX9TyOjys0aO6xMFmAARRF1CyF8",
      "include_colab_link": true
    },
    "kernelspec": {
      "name": "python3",
      "display_name": "Python 3"
    }
  },
  "cells": [
    {
      "cell_type": "markdown",
      "metadata": {
        "id": "view-in-github",
        "colab_type": "text"
      },
      "source": [
        "<a href=\"https://colab.research.google.com/github/LongntLe/UdacityMLE/blob/master/Capstone_Proposal.ipynb\" target=\"_parent\"><img src=\"https://colab.research.google.com/assets/colab-badge.svg\" alt=\"Open In Colab\"/></a>"
      ]
    },
    {
      "cell_type": "markdown",
      "metadata": {
        "id": "VkbRu8zU9dzB",
        "colab_type": "text"
      },
      "source": [
        "For this Capstone, I propose a Deep Learning judging system for sabre fencing.\n",
        "\n",
        "Fencing is a highly technical sports where actions happen in a fraction of seconds. Due to the many rules involved and the constant evolution of the game, a referee is always required, thus creating a need for automation.\n",
        "\n",
        "This project will be based on the work done in the following repos:\n",
        "\n",
        "https://github.com/sholtodouglas/fencing-AI\n",
        "\n",
        "https://github.com/GalDude33/fencing-AI\n",
        "\n",
        "The contributions of this Capstone includes:\n",
        "\n",
        "* Applying Deep Learning to sabre fencing.\n",
        "* Scaling the system for larger data sets.\n",
        "* Deploying said system to AWS for enhanced performance."
      ]
    },
    {
      "cell_type": "code",
      "metadata": {
        "id": "EjZdphvWAG47",
        "colab_type": "code",
        "colab": {}
      },
      "source": [
        ""
      ],
      "execution_count": null,
      "outputs": []
    }
  ]
}